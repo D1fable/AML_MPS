{
 "cells": [
  {
   "cell_type": "code",
   "execution_count": 259,
   "id": "e3402bde-2942-42a5-b570-a212ab4f4bd3",
   "metadata": {
    "tags": []
   },
   "outputs": [],
   "source": [
    "import csv\n",
    "import os\n",
    "\n",
    "import biosppy.signals.ecg as ecg\n",
    "import matplotlib.pyplot as plt\n",
    "from scipy.stats import skew, kurtosis\n",
    "from scipy import signal\n",
    "import numpy as np\n",
    "import pandas as pd\n",
    "\n",
    "from sklearn.metrics import f1_score\n",
    "from sklearn.metrics import confusion_matrix, ConfusionMatrixDisplay\n",
    "\n",
    "from sklearn.pipeline import Pipeline\n",
    "from sklearn.feature_selection import VarianceThreshold, SelectKBest, f_regression\n",
    "from sklearn.model_selection import KFold, train_test_split\n",
    "from sklearn.preprocessing import StandardScaler\n",
    "\n",
    "from sklearn.svm import SVC\n",
    "from sklearn.ensemble import RandomForestClassifier, StackingClassifier\n",
    "from sklearn.neighbors import KNeighborsClassifier\n",
    "from sklearn.linear_model import LogisticRegression, RidgeClassifier\n",
    "from sklearn.naive_bayes import GaussianNB\n",
    "from sklearn.discriminant_analysis import QuadraticDiscriminantAnalysis\n",
    "from sklearn.gaussian_process import GaussianProcessClassifier\n",
    "from sklearn.gaussian_process.kernels import RBF"
   ]
  },
  {
   "cell_type": "code",
   "execution_count": 153,
   "id": "8aa60843-1148-4e08-a31b-9153c5da9b69",
   "metadata": {
    "tags": []
   },
   "outputs": [
    {
     "name": "stdout",
     "output_type": "stream",
     "text": [
      "(5117, 39)\n",
      "(5117, 38)\n",
      "(5117,)\n",
      "(3411, 38)\n"
     ]
    }
   ],
   "source": [
    "data = np.loadtxt(\"Data/features.csv\", delimiter=\",\")\n",
    "data = data.astype(np.float32)\n",
    "print(data.shape)\n",
    "\n",
    "X_train = data[:, 1:]\n",
    "y_train = data[:, 0]\n",
    "\n",
    "print(X_train.shape)\n",
    "print(y_train.shape)\n",
    "\n",
    "test_data = np.loadtxt(\"Data/test_features.csv\", delimiter=\",\")\n",
    "X_test = test_data.astype(np.float32)\n",
    "print(X_test.shape)"
   ]
  },
  {
   "cell_type": "code",
   "execution_count": 243,
   "id": "07c69116-ece8-48fc-9a30-7880afb07fb8",
   "metadata": {
    "tags": []
   },
   "outputs": [],
   "source": [
    "def feature_selection(X, y):\n",
    "    selector = Pipeline([\n",
    "        ('variance', VarianceThreshold(0.01)),\n",
    "        ('univariate', SelectKBest(f_regression, k=33))\n",
    "    ])\n",
    "    \n",
    "    X_selected = selector.fit_transform(X, y)\n",
    "\n",
    "    return X_selected, selector\n",
    "\n",
    "def process_features(X, is_train=True, scaler=None):\n",
    "    if is_train:\n",
    "        scaler = StandardScaler()\n",
    "        X_scaled = scaler.fit_transform(X)\n",
    "        return X_scaled, scaler\n",
    "    \n",
    "    else:\n",
    "        X_scaled = scaler.transform(X)\n",
    "        return X_scaled"
   ]
  },
  {
   "cell_type": "code",
   "execution_count": 245,
   "id": "7de13942-26c2-4771-911c-8338a63b8aad",
   "metadata": {
    "tags": []
   },
   "outputs": [],
   "source": [
    "def train_evaluate_stacked_ensemble(X, y, n_splits=5, random_state=1):\n",
    "    kfold = KFold(n_splits=n_splits, shuffle=True, random_state=random_state)\n",
    "    \n",
    "    f1_scores = []\n",
    "    current_fold = 0\n",
    "    \n",
    "    for train_index, val_index in kfold.split(X, y):\n",
    "        # Split data\n",
    "\n",
    "        current_fold += 1\n",
    "        print(f\"Fold {current_fold}\")\n",
    "        X_train, X_val = X[train_index], X[val_index]\n",
    "        y_train, y_val = y[train_index], y[val_index]\n",
    "        \n",
    "        X_train, scaler = process_features(X_train, is_train=True)\n",
    "        X_val = process_features(X_val, is_train=False, scaler=scaler)\n",
    "\n",
    "        svc = SVC(kernel='rbf', random_state=random_state) #0.59\n",
    "        model = RandomForestClassifier(n_estimators=300, max_depth=15, random_state=random_state) #0.70\n",
    "        knn = KNeighborsClassifier(n_neighbors=30) #0.59\n",
    "        '''\n",
    "        model = StackingClassifier(\n",
    "            estimators=[\n",
    "                ('svc', svc),\n",
    "                ('rf', rf),\n",
    "                ('knn', knn)\n",
    "                ],\n",
    "            final_estimator=RidgeClassifier(),\n",
    "        )\n",
    "        '''\n",
    "\n",
    "        X_train, selector = feature_selection(X_train, y_train)\n",
    "        X_val = selector.transform(X_val)\n",
    "\n",
    "        model.fit(X_train, y_train)\n",
    "        y_pred = model.predict(X_val)\n",
    "        \n",
    "        f1_scores.append(f1_score(y_val, y_pred, average='micro'))\n",
    "\n",
    "    # Calculate the mean and std for each metric across folds\n",
    "    results = {'F1 Score': (np.mean(f1_scores), np.std(f1_scores))}\n",
    "\n",
    "    # Print the results\n",
    "    print(\"Cross-Validation Performance:\")\n",
    "    for metric, (mean, std) in results.items():\n",
    "        print(f\"{metric}: {mean:.4f} ± {std:.4f}\")"
   ]
  },
  {
   "cell_type": "code",
   "execution_count": 247,
   "id": "b17fce48-a04c-43fe-ac93-86c0708f6ab3",
   "metadata": {
    "tags": []
   },
   "outputs": [
    {
     "name": "stdout",
     "output_type": "stream",
     "text": [
      "Fold 1\n",
      "Fold 2\n",
      "Fold 3\n",
      "Fold 4\n",
      "Fold 5\n",
      "Fold 6\n",
      "Fold 7\n",
      "Fold 8\n",
      "Fold 9\n",
      "Fold 10\n",
      "Cross-Validation Performance:\n",
      "F1 Score: 0.7131 ± 0.0251\n"
     ]
    }
   ],
   "source": [
    "train_evaluate_stacked_ensemble(X_train, y_train, n_splits=10, random_state=1)"
   ]
  },
  {
   "cell_type": "code",
   "execution_count": null,
   "id": "a4c9aeeb-573c-4d4a-b675-68b16ab12a84",
   "metadata": {},
   "outputs": [],
   "source": [
    "'''\n",
    "0.7118 ± 0.0257 - 30\n",
    "0.7143 ± 0.0289 - 32\n",
    "'''"
   ]
  },
  {
   "cell_type": "code",
   "execution_count": 214,
   "id": "b2e5e77b-2324-428e-9a54-d7fb9cace397",
   "metadata": {
    "tags": []
   },
   "outputs": [],
   "source": [
    "def make_prediction_stacked_ensemble(X_train, y_train, X_test, random_state=1):\n",
    "        svc = SVC(kernel='rbf', random_state=random_state) #0.59\n",
    "        rf = RandomForestClassifier(n_estimators=200, max_depth=10, random_state=random_state) #0.70\n",
    "        knn = KNeighborsClassifier(n_neighbors=30) #0.59\n",
    "        \n",
    "        model = StackingClassifier(\n",
    "            estimators=[\n",
    "                ('svc', svc),\n",
    "                ('rf', rf),\n",
    "                ('knn', knn)\n",
    "                ],\n",
    "            final_estimator=RidgeClassifier(),\n",
    "        )\n",
    "        \n",
    "        X_train, scaler = process_features(X_train, is_train=True)\n",
    "        X_test = process_features(X_test, is_train=False, scaler=scaler)\n",
    "\n",
    "        X_train, selector = feature_selection(X_train, y_train)\n",
    "        X_test = selector.transform(X_test)\n",
    "\n",
    "        model.fit(X_train, y_train)\n",
    "        y_pred = model.predict(X_test)\n",
    "        \n",
    "        return y_pred,"
   ]
  },
  {
   "cell_type": "code",
   "execution_count": 216,
   "id": "efa04288-2342-46cd-9bf6-872c4e230861",
   "metadata": {
    "tags": []
   },
   "outputs": [],
   "source": [
    "def create_submission(name, X_train, y_train, X_test):\n",
    "    y_pred = make_prediction_stacked_ensemble(X_train, y_train, X_test)\n",
    "    \n",
    "    table = pd.DataFrame({'id': np.arange(len(y_pred)), 'y': y_pred.flatten()})\n",
    "\n",
    "    table.to_csv(f'Data/{name}.csv', index=False)"
   ]
  },
  {
   "cell_type": "code",
   "execution_count": 238,
   "id": "f2245317-083f-4a3a-9938-598492d8da5e",
   "metadata": {
    "tags": []
   },
   "outputs": [],
   "source": [
    "create_submission(\"submission_2\", X_train, y_train, X_test)"
   ]
  },
  {
   "cell_type": "code",
   "execution_count": 261,
   "id": "bb5817c0-7fd3-407d-be32-6983a46360c9",
   "metadata": {
    "tags": []
   },
   "outputs": [],
   "source": [
    "#----------------------------------------\n",
    "\n",
    "\n",
    "def make_prediction_visual(X, y, random_state=1):\n",
    "        model = RandomForestClassifier(n_estimators=200, max_depth=10, random_state=random_state) #0.70\n",
    "        \n",
    "        X_train, X_test, y_train, y_test = train_test_split(X, y, test_size=0.2, random_state=random_state)\n",
    "\n",
    "        X_train, scaler = process_features(X_train, is_train=True)\n",
    "        X_test = process_features(X_test, is_train=False, scaler=scaler)\n",
    "\n",
    "        X_train, selector = feature_selection(X_train, y_train)\n",
    "        X_test = selector.transform(X_test)\n",
    "\n",
    "        model.fit(X_train, y_train)\n",
    "        y_pred = model.predict(X_test)\n",
    "        \n",
    "        return y_pred, y_test"
   ]
  },
  {
   "cell_type": "code",
   "execution_count": 263,
   "id": "55b3dd61-1b06-4823-ae81-22e4a76af77e",
   "metadata": {
    "tags": []
   },
   "outputs": [],
   "source": [
    "y_1, y_2 = make_prediction_visual(X_train, y_train)"
   ]
  },
  {
   "cell_type": "code",
   "execution_count": 265,
   "id": "90be0269-a85e-4686-9c2c-00bea76f4f7b",
   "metadata": {
    "tags": []
   },
   "outputs": [
    {
     "data": {
      "image/png": "[encoded data removed]",
      "text/plain": [
       "<Figure size 800x600 with 2 Axes>"
      ]
     },
     "metadata": {},
     "output_type": "display_data"
    }
   ],
   "source": [
    "# Compute the confusion matrix\n",
    "cm = confusion_matrix(y_2, y_1)\n",
    "\n",
    "# Normalize the confusion matrix (Optional)\n",
    "cm_normalized = cm.astype('float') / cm.sum(axis=1)[:, np.newaxis]\n",
    "\n",
    "# Visualize the confusion matrix\n",
    "fig, ax = plt.subplots(figsize=(8, 6))\n",
    "im = ax.imshow(cm_normalized, interpolation='nearest', cmap=plt.cm.Blues)\n",
    "\n",
    "# Add color bar\n",
    "plt.colorbar(im, ax=ax)\n",
    "\n",
    "# Add labels, title, and ticks\n",
    "ax.set_title(\"Normalized Confusion Matrix\")\n",
    "ax.set_xlabel(\"Predicted Label\")\n",
    "ax.set_ylabel(\"True Label\")\n",
    "classes = np.unique(y_2)  # Class labels\n",
    "ax.set_xticks(np.arange(len(classes)))\n",
    "ax.set_yticks(np.arange(len(classes)))\n",
    "ax.set_xticklabels(classes)\n",
    "ax.set_yticklabels(classes)\n",
    "\n",
    "# Rotate tick labels for better readability\n",
    "plt.xticks(rotation=45)\n",
    "\n",
    "# Add text annotations\n",
    "for i in range(cm.shape[0]):\n",
    "    for j in range(cm.shape[1]):\n",
    "        text = ax.text(j, i, f\"{cm_normalized[i, j]:.2f}\", ha=\"center\", va=\"center\", color=\"black\")\n",
    "\n",
    "plt.tight_layout()\n",
    "plt.show()"
   ]
  },
  {
   "cell_type": "code",
   "execution_count": null,
   "id": "7f9aee69-fa94-4d3f-99c3-7474e6fd3df3",
   "metadata": {},
   "outputs": [],
   "source": []
  }
 ],
 "metadata": {
  "kernelspec": {
   "display_name": "AML Project 2 Env",
   "language": "python",
   "name": "aml"
  },
  "language_info": {
   "codemirror_mode": {
    "name": "ipython",
    "version": 3
   },
   "file_extension": ".py",
   "mimetype": "text/x-python",
   "name": "python",
   "nbconvert_exporter": "python",
   "pygments_lexer": "ipython3",
   "version": "3.9.20"
  }
 },
 "nbformat": 4,
 "nbformat_minor": 5
}
