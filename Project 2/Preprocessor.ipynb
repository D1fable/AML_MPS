{
 "cells": [
  {
   "cell_type": "code",
   "execution_count": 1,
   "id": "61f3594d-6359-41dd-8527-8ea1746b20f4",
   "metadata": {
    "tags": []
   },
   "outputs": [],
   "source": [
    "import csv\n",
    "import os\n",
    "\n",
    "import biosppy.signals.ecg as ecg\n",
    "import matplotlib.pyplot as plt\n",
    "import numpy as np\n",
    "import pandas as pd"
   ]
  },
  {
   "cell_type": "code",
   "execution_count": 2,
   "id": "e1dafde6-6d06-404f-accc-42293cfeacb1",
   "metadata": {
    "tags": []
   },
   "outputs": [],
   "source": [
    "raw_data_train = pd.read_csv('Data/train.csv', index_col='id')\n",
    "raw_data_test = pd.read_csv('Data/test.csv', index_col='id')"
   ]
  },
  {
   "cell_type": "code",
   "execution_count": 3,
   "id": "a60386b8-9f55-4bbd-a67c-c4b900ef1e7c",
   "metadata": {
    "tags": []
   },
   "outputs": [],
   "source": [
    "train_data_X = raw_data_train.drop(columns=['y']).to_numpy(dtype='float32')\n",
    "test_data = raw_data_test.to_numpy(dtype='float32')"
   ]
  },
  {
   "cell_type": "code",
   "execution_count": 4,
   "id": "9ffffdcf-5c1e-4666-85a9-216ed00f8ce6",
   "metadata": {
    "tags": []
   },
   "outputs": [],
   "source": [
    "def get_average_beats(data):\n",
    "    rows, columns = data.shape\n",
    "    \n",
    "    means = np.zeros((rows, 180))\n",
    "    variances = np.zeros((rows, 180))\n",
    "    medians = np.zeros((rows, 180))\n",
    "    peaks = []\n",
    "    print(f\"The data has:\\nData points:{rows}, Features:{columns}\\n\")\n",
    "    \n",
    "    sampling_rate=300\n",
    "    for r in range(rows):\n",
    "        curr_row = data[r]\n",
    "        curr_row = curr_row[~np.isnan(curr_row)]\n",
    "        \n",
    "        if(r%1000 == 0):\n",
    "            print(f\"Data digested up to row: {r}\")\n",
    "        \n",
    "        r_peaks = ecg.engzee_segmenter(curr_row, sampling_rate=sampling_rate)['rpeaks']\n",
    "        \n",
    "        if(r_peaks.size == 0):\n",
    "            peaks.append(np.array([-1]))\n",
    "            print(f\"No peaks found for {r}\")\n",
    "        else:\n",
    "            peaks.append(r_peaks)\n",
    "        \n",
    "        beats = ecg.extract_heartbeats(curr_row, r_peaks, sampling_rate=sampling_rate)['templates']\n",
    "        \n",
    "        if(beats.shape[0] == 0):\n",
    "            print(f\"No beats found for {r}\")\n",
    "            \n",
    "        if len(beats) != 0:\n",
    "            mu = np.mean(beats, axis=0)\n",
    "            var = np.std(beats, axis=0)\n",
    "            md = np.median(beats, axis=0)\n",
    "            \n",
    "            means[r] = mu\n",
    "            variances[r] = var\n",
    "            medians[r] = md\n",
    "        \n",
    "    return peaks, means, variances, medians"
   ]
  },
  {
   "cell_type": "code",
   "execution_count": 5,
   "id": "dcaca3d6-5b3d-4488-99a4-a0c672155336",
   "metadata": {
    "tags": []
   },
   "outputs": [
    {
     "name": "stdout",
     "output_type": "stream",
     "text": [
      "The data has:\n",
      "Data points:5117, Features:17807\n",
      "\n",
      "Data digested up to row: 0\n",
      "No peaks found for 447\n",
      "No beats found for 447\n",
      "No peaks found for 579\n",
      "No beats found for 579\n",
      "No peaks found for 593\n",
      "No beats found for 593\n",
      "No peaks found for 955\n",
      "No beats found for 955\n",
      "Data digested up to row: 1000\n",
      "No peaks found for 1247\n",
      "No beats found for 1247\n",
      "No peaks found for 1383\n",
      "No beats found for 1383\n",
      "Data digested up to row: 2000\n",
      "No peaks found for 2493\n",
      "No beats found for 2493\n",
      "No peaks found for 2931\n",
      "No beats found for 2931\n",
      "Data digested up to row: 3000\n",
      "No peaks found for 3009\n",
      "No beats found for 3009\n",
      "No peaks found for 3145\n",
      "No beats found for 3145\n",
      "No peaks found for 3519\n",
      "No beats found for 3519\n",
      "No peaks found for 3884\n",
      "No beats found for 3884\n",
      "Data digested up to row: 4000\n",
      "No peaks found for 4025\n",
      "No beats found for 4025\n",
      "No peaks found for 4340\n",
      "No beats found for 4340\n",
      "No peaks found for 4625\n",
      "No beats found for 4625\n",
      "No peaks found for 4684\n",
      "No beats found for 4684\n",
      "No peaks found for 4693\n",
      "No beats found for 4693\n",
      "No peaks found for 4871\n",
      "No beats found for 4871\n",
      "No beats found for 4984\n",
      "Data digested up to row: 5000\n"
     ]
    }
   ],
   "source": [
    "peaks_train, means_train, vars_train, medians_train = get_average_beats(train_data_X)"
   ]
  },
  {
   "cell_type": "code",
   "execution_count": 6,
   "id": "82edcd80-f973-499f-bd58-8151cf76a9b9",
   "metadata": {
    "tags": []
   },
   "outputs": [
    {
     "name": "stdout",
     "output_type": "stream",
     "text": [
      "The data has:\n",
      "Data points:3411, Features:17807\n",
      "\n",
      "Data digested up to row: 0\n",
      "No peaks found for 155\n",
      "No beats found for 155\n",
      "No peaks found for 172\n",
      "No beats found for 172\n",
      "No peaks found for 450\n",
      "No beats found for 450\n",
      "No peaks found for 509\n",
      "No beats found for 509\n",
      "No peaks found for 646\n",
      "No beats found for 646\n",
      "No peaks found for 704\n",
      "No beats found for 704\n",
      "No peaks found for 950\n",
      "No beats found for 950\n",
      "No peaks found for 970\n",
      "No beats found for 970\n",
      "Data digested up to row: 1000\n",
      "No peaks found for 1040\n",
      "No beats found for 1040\n",
      "No peaks found for 1147\n",
      "No beats found for 1147\n",
      "No peaks found for 1740\n",
      "No beats found for 1740\n",
      "Data digested up to row: 2000\n",
      "No peaks found for 2223\n",
      "No beats found for 2223\n",
      "No peaks found for 2267\n",
      "No beats found for 2267\n",
      "No peaks found for 2304\n",
      "No beats found for 2304\n",
      "No peaks found for 2501\n",
      "No beats found for 2501\n",
      "No peaks found for 2894\n",
      "No beats found for 2894\n",
      "Data digested up to row: 3000\n",
      "No peaks found for 3169\n",
      "No beats found for 3169\n",
      "No peaks found for 3381\n",
      "No beats found for 3381\n"
     ]
    }
   ],
   "source": [
    "peaks_test, means_test, vars_test, medians_test = get_average_beats(test_data)"
   ]
  },
  {
   "cell_type": "code",
   "execution_count": 7,
   "id": "1e4c7a72-0869-475f-8a5f-54236abe2f17",
   "metadata": {
    "tags": []
   },
   "outputs": [],
   "source": [
    "np.savetxt(\"Data/train_means.csv\", means_train, delimiter=\",\", fmt=\"%.10f\")\n",
    "np.savetxt(\"Data/train_vars.csv\", vars_train, delimiter=\",\", fmt=\"%.10f\")\n",
    "np.savetxt(\"Data/train_medians.csv\", medians_train, delimiter=\",\", fmt=\"%.10f\")\n",
    "\n",
    "np.savetxt(\"Data/test_means.csv\", means_test, delimiter=\",\", fmt=\"%.10f\")\n",
    "np.savetxt(\"Data/test_vars.csv\", vars_test, delimiter=\",\", fmt=\"%.10f\")\n",
    "np.savetxt(\"Data/test_medians.csv\", medians_test, delimiter=\",\", fmt=\"%.10f\")"
   ]
  },
  {
   "cell_type": "code",
   "execution_count": 9,
   "id": "9aaa9ad4-e125-4cc0-a4b5-424e80fbc46d",
   "metadata": {
    "tags": []
   },
   "outputs": [],
   "source": [
    "def save_peaks(peaks, file_name):\n",
    "    \n",
    "    with open(file_name, 'w') as file:\n",
    "        for arr in peaks:\n",
    "            # Save the shape followed by the flattened array\n",
    "            row = \",\".join(map(str, arr))\n",
    "            file.write(row + \"\\n\")"
   ]
  },
  {
   "cell_type": "code",
   "execution_count": 10,
   "id": "0f3193df-c10e-41bd-844b-042ca86979b7",
   "metadata": {
    "tags": []
   },
   "outputs": [],
   "source": [
    "save_peaks(peaks_train, 'Data/train_peaks.csv')\n",
    "save_peaks(peaks_test, 'Data/test_peaks.csv')"
   ]
  },
  {
   "cell_type": "code",
   "execution_count": 69,
   "id": "644164da-612e-4676-acec-2c173f2d487a",
   "metadata": {},
   "outputs": [
    {
     "name": "stdout",
     "output_type": "stream",
     "text": [
      "66\n",
      "17807\n",
      "37\n",
      "17807\n",
      "30\n",
      "17807\n",
      "70\n",
      "17807\n",
      "45\n",
      "17807\n",
      "[1.37390572 1.28423423 1.52314815 ... 0.         0.         0.        ]\n"
     ]
    }
   ],
   "source": [
    "'''\n",
    "List of all data:\n",
    "train_data_X, test_data\n",
    "peaks_train, means_train, vars_train, medians_train\n",
    "peaks_test, means_test, vars_test, medians_test\n",
    "'''\n",
    "\n",
    "found = np.zeros(5117)\n",
    "for i in range(5):\n",
    "    npeaks = len(peaks_train[i])\n",
    "    print(npeaks)\n",
    "    \n",
    "    curr_row = train_data_X[i]\n",
    "    curr_row = curr_row[~np.isnan(curr_row)]\n",
    "    normalized_signal_length = len(curr_row) / 180\n",
    "    print(normalized_signal_length)\n",
    "    \n",
    "    found[i] = normalized_signal_length / npeaks\n",
    "    \n",
    "print(found)"
   ]
  },
  {
   "cell_type": "code",
   "execution_count": null,
   "id": "50ab0b22-2bbd-4487-b8ea-f16e1d3c7093",
   "metadata": {},
   "outputs": [],
   "source": []
  }
 ],
 "metadata": {
  "kernelspec": {
   "display_name": "AML Project 2 Env",
   "language": "python",
   "name": "aml"
  },
  "language_info": {
   "codemirror_mode": {
    "name": "ipython",
    "version": 3
   },
   "file_extension": ".py",
   "mimetype": "text/x-python",
   "name": "python",
   "nbconvert_exporter": "python",
   "pygments_lexer": "ipython3",
   "version": "3.9.20"
  }
 },
 "nbformat": 4,
 "nbformat_minor": 5
}
